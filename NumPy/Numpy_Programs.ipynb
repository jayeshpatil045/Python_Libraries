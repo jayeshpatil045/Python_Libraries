{
 "cells": [
  {
   "cell_type": "markdown",
   "metadata": {},
   "source": [
    "'''\n",
    "\n",
    "@Author: Jayesh Patil\n",
    "\n",
    "@Date: 2024-08-26\n",
    "\n",
    "@Last Modified by: Jayesh Patil\n",
    "\n",
    "@Title: NumPy Programs \n",
    "\n",
    "'''"
   ]
  },
  {
   "cell_type": "code",
   "execution_count": 1,
   "metadata": {},
   "outputs": [],
   "source": [
    "import numpy as np"
   ]
  },
  {
   "cell_type": "markdown",
   "metadata": {},
   "source": [
    "1.Write a Python program to convert a list of numeric value into a one-dimensional NumPy array."
   ]
  },
  {
   "cell_type": "code",
   "execution_count": 2,
   "metadata": {},
   "outputs": [
    {
     "name": "stdout",
     "output_type": "stream",
     "text": [
      "This is numpy array: [ 12.23  13.32 100.    36.32]\n"
     ]
    }
   ],
   "source": [
    "def list_to_numpy_array(input_list):\n",
    "    \"\"\"\n",
    "        Discription :\n",
    "            Converts a list of numerical values into a NumPy array.\n",
    "    \n",
    "        Parameters:\n",
    "            input_list (list): A list containing numerical values.\n",
    "        \n",
    "        Return:\n",
    "            numpy.nparray: A NumPy array representation of the input list.\n",
    "    \"\"\"\n",
    "    return np.array(input_list)\n",
    "\n",
    "def main():\n",
    "    list1 = [12.23, 13.32, 100, 36.32]\n",
    "    result_array = list_to_numpy_array(list1)\n",
    "    print(\"This is numpy array:\", result_array)\n",
    "\n",
    "if __name__ == \"__main__\":\n",
    "    main()\n"
   ]
  },
  {
   "cell_type": "markdown",
   "metadata": {},
   "source": [
    "2.Create a 3x3 matrix with values ranging from 2 to 10."
   ]
  },
  {
   "cell_type": "code",
   "execution_count": 3,
   "metadata": {},
   "outputs": [
    {
     "name": "stdout",
     "output_type": "stream",
     "text": [
      "The matrix is [[ 2  3  4]\n",
      " [ 5  6  7]\n",
      " [ 8  9 10]]\n"
     ]
    }
   ],
   "source": [
    "def create_matrix():\n",
    "    \"\"\"\n",
    "        Discription :\n",
    "            Create a 3x3 matrix with the values range from 2 to 10.\n",
    "    \n",
    "        Parameters:\n",
    "            None\n",
    "        \n",
    "        Return:\n",
    "            numpy.matrix: A NumPy matrix representation .\n",
    "    \"\"\"    \n",
    "\n",
    "    matrix = np.matrix([[2,3,4],[5,6,7],[8,9,10]])\n",
    "    return matrix\n",
    "def main():\n",
    "    matrix = create_matrix()\n",
    "    print(f\"The matrix is {matrix}\")\n",
    "if __name__==\"__main__\":\n",
    "    main()        "
   ]
  },
  {
   "cell_type": "markdown",
   "metadata": {},
   "source": [
    "3.Write a Python program to create a null vector of size 10 and update sixth value to 11."
   ]
  },
  {
   "cell_type": "code",
   "execution_count": 5,
   "metadata": {},
   "outputs": [
    {
     "name": "stdout",
     "output_type": "stream",
     "text": [
      "Original vector: [0. 0. 0. 0. 0. 0. 0. 0. 0. 0.]\n",
      "Updated vector: [ 0.  0.  0.  0.  0. 11.  0.  0.  0.  0.]\n"
     ]
    }
   ],
   "source": [
    " def create_and_update_vector():\n",
    "    \"\"\"\n",
    "        Discription :\n",
    "            Creates a null vector (array of zeros) of size 10 and updates the sixth value to 11.\n",
    "        Parameters :\n",
    "            None    \n",
    "    \n",
    "        Returns:\n",
    "            The updated vector with the sixth value set to 11.\n",
    "    \"\"\"\n",
    "   \n",
    "    vector = np.zeros(10)\n",
    "    \n",
    "    \n",
    "    vector[5] = 11\n",
    "    \n",
    "    return vector\n",
    "\n",
    "def main():\n",
    "    vector = create_and_update_vector()\n",
    "    print(\"Original vector:\",np.zeros(10))\n",
    "    print(\"Updated vector:\",vector)\n",
    "    \n",
    "\n",
    "if __name__ == \"__main__\":\n",
    "    main()    \n",
    "\n"
   ]
  },
  {
   "cell_type": "markdown",
   "metadata": {},
   "source": [
    "4.Python program to reverse an array (first element becomes last)."
   ]
  },
  {
   "cell_type": "code",
   "execution_count": 6,
   "metadata": {},
   "outputs": [
    {
     "name": "stdout",
     "output_type": "stream",
     "text": [
      "Original_array [12 13 14 15 16 17 18 19 20 21 22 23 24 25 26 27 28 29 30 31 32 33 34 35\n",
      " 36 37]\n",
      "Reverse_array [37 36 35 34 33 32 31 30 29 28 27 26 25 24 23 22 21 20 19 18 17 16 15 14\n",
      " 13 12]\n"
     ]
    }
   ],
   "source": [
    "def reverse_array(arr):\n",
    "    \"\"\"\n",
    "        Discription :\n",
    "            Reverses the order of elements in the given array.\n",
    "\n",
    "        Parameters:\n",
    "            arr (numpy.ndarray): The array to be reversed.\n",
    "        \n",
    "        Returns:\n",
    "            numpy.ndarray: The reversed array.\n",
    "    \"\"\"\n",
    "    return arr[::-1]\n",
    "def main():\n",
    "    Original_array= np.array([12,13,14,15,16,17,18,19,20,21,22,23,24,25,26,27,28,29,30,31,32,33,34,35,36,37])\n",
    "    print(\"Original_array\",Original_array)\n",
    "\n",
    "    reversed_array = reverse_array(Original_array)\n",
    "    print(\"Reverse_array\",reversed_array)\n",
    "if __name__ == \"__main__\":\n",
    "    main()      \n",
    "    \n"
   ]
  },
  {
   "cell_type": "markdown",
   "metadata": {},
   "source": [
    "5.Python program to create a 2d array with 1 on the border and 0 inside."
   ]
  },
  {
   "cell_type": "code",
   "execution_count": 7,
   "metadata": {},
   "outputs": [
    {
     "name": "stdout",
     "output_type": "stream",
     "text": [
      "Original array:\n",
      "[[1. 1. 1. 1. 1.]\n",
      " [1. 1. 1. 1. 1.]\n",
      " [1. 1. 1. 1. 1.]\n",
      " [1. 1. 1. 1. 1.]\n",
      " [1. 1. 1. 1. 1.]]\n",
      "1 on the border and 0 inside in the array:\n",
      "[[1. 1. 1. 1. 1.]\n",
      " [1. 0. 0. 0. 1.]\n",
      " [1. 0. 0. 0. 1.]\n",
      " [1. 0. 0. 0. 1.]\n",
      " [1. 1. 1. 1. 1.]]\n"
     ]
    }
   ],
   "source": [
    "def create_border_array(size):\n",
    "    \"\"\"\n",
    "        Discription :\n",
    "            Creates a 2D array of given size with 1 on the border and 0 inside.\n",
    "\n",
    "        Parameters:\n",
    "            size (int): The size of the 2D array (it will be size x size).\n",
    "        \n",
    "        Returns:\n",
    "            numpy.ndarray: A 2D array with 1 on the borders and 0 inside.\n",
    "    \"\"\"\n",
    "    \n",
    "    array = np.ones((size, size))\n",
    "    \n",
    "    \n",
    "    array[1:-1, 1:-1] = 0\n",
    "    \n",
    "    return array\n",
    "\n",
    "def main():\n",
    "    size = 5 \n",
    "    original_array = np.ones((size, size))\n",
    "    print(\"Original array:\")\n",
    "    print(original_array)\n",
    "    \n",
    "    border_array = create_border_array(size)\n",
    "    print(\"1 on the border and 0 inside in the array:\")\n",
    "    print(border_array)\n",
    "\n",
    "if __name__ == \"__main__\":\n",
    "    main()\n"
   ]
  },
  {
   "cell_type": "markdown",
   "metadata": {},
   "source": [
    "6.Python program to add a border (filled with 0's) around an existing array."
   ]
  },
  {
   "cell_type": "code",
   "execution_count": 8,
   "metadata": {},
   "outputs": [
    {
     "name": "stdout",
     "output_type": "stream",
     "text": [
      "original array: [[1. 1. 1.]\n",
      " [1. 1. 1.]\n",
      " [1. 1. 1.]]\n",
      "0 on the border  [[0. 0. 0. 0. 0.]\n",
      " [0. 1. 1. 1. 0.]\n",
      " [0. 1. 1. 1. 0.]\n",
      " [0. 1. 1. 1. 0.]\n",
      " [0. 0. 0. 0. 0.]]\n"
     ]
    }
   ],
   "source": [
    "def create_border_array(size):\n",
    "    \"\"\"\n",
    "        Discription :\n",
    "            Adds a border of zeros around an existing 2D array\n",
    "\n",
    "        Parameters:\n",
    "            size (int): The size of the 2D array (it will be size x size).\n",
    "        \n",
    "        Returns:\n",
    "            A 2D array with 1 on the borders and 0 inside.\n",
    "    \"\"\"\n",
    "    array = np.zeros((size+2,size+2))\n",
    "    array[1:-1, 1:-1] = 1\n",
    "    \n",
    "    return array\n",
    "def main():\n",
    "    size = 3\n",
    "    original_array = np.ones((size,size))\n",
    "    print(\"original array:\",original_array)\n",
    "\n",
    "    border_array = create_border_array(size)\n",
    "    print(\"0 on the border \",border_array)\n",
    "if __name__ == \"__main__\":\n",
    "    main()        "
   ]
  },
  {
   "cell_type": "markdown",
   "metadata": {},
   "source": [
    "7.Write a Python program to create a 8x8 matrix and fill it with a checkerboard pattern."
   ]
  },
  {
   "cell_type": "code",
   "execution_count": 9,
   "metadata": {},
   "outputs": [
    {
     "name": "stdout",
     "output_type": "stream",
     "text": [
      "Checker board pattern :\n",
      " [[1. 0. 1. 0. 1. 0. 1. 0.]\n",
      " [0. 1. 0. 1. 0. 1. 0. 1.]\n",
      " [1. 0. 1. 0. 1. 0. 1. 0.]\n",
      " [0. 1. 0. 1. 0. 1. 0. 1.]\n",
      " [1. 0. 1. 0. 1. 0. 1. 0.]\n",
      " [0. 1. 0. 1. 0. 1. 0. 1.]\n",
      " [1. 0. 1. 0. 1. 0. 1. 0.]\n",
      " [0. 1. 0. 1. 0. 1. 0. 1.]]\n"
     ]
    }
   ],
   "source": [
    "def checkerboard_pattern(size):\n",
    "    \"\"\"\n",
    "        Discription :\n",
    "            This programs is checkerboard pattern\n",
    "\n",
    "        Parameters:\n",
    "            size (int): The size of the 2D array (it will be size x size).\n",
    "        \n",
    "        Returns:\n",
    "            A 2D array with 1 on the borders and 0 inside.\n",
    "    \"\"\"\n",
    "    array = np.ones((size,size))\n",
    "    array[1::2,::2] = 0\n",
    "    array[::2,1::2] = 0\n",
    "    return array\n",
    "def main():\n",
    "    size = 8\n",
    "    array = checkerboard_pattern(size)\n",
    "    print(\"Checker board pattern :\\n\",array)\n",
    "if __name__ == \"__main__\":\n",
    "    main()    \n",
    "        "
   ]
  },
  {
   "cell_type": "markdown",
   "metadata": {},
   "source": [
    "8.Python program to convert a list and tuple into arrays."
   ]
  },
  {
   "cell_type": "code",
   "execution_count": 10,
   "metadata": {},
   "outputs": [
    {
     "name": "stdout",
     "output_type": "stream",
     "text": [
      "original list : [21, 22, 23.24]\n",
      "Converted array from list: [21.   22.   23.24]\n",
      "original tuple : (31, 32, 33, 34)\n",
      "converted array from tuple : [31 32 33 34]\n"
     ]
    }
   ],
   "source": [
    "def convert_to_array(data):\n",
    "    \"\"\"\n",
    "        Discription :\n",
    "            Converts a list or tuple into a NumPy array.\n",
    "\n",
    "        Parameters:\n",
    "            data (list or tuple): The list or tuple to be converted.\n",
    "        \n",
    "        Returns:\n",
    "            The converted NumPy array\n",
    "    \"\"\"\n",
    "    return np.array(data)\n",
    "def main():\n",
    "    list1 = [21,22,23.24]\n",
    "    tuple1 = (31,32,33,34) \n",
    "    list_array = convert_to_array(list1)\n",
    "    print(\"original list :\",list1)\n",
    "    print(\"Converted array from list:\",list_array)\n",
    "\n",
    "    tuple_array = convert_to_array(tuple1)\n",
    "    print(\"original tuple :\",tuple1)\n",
    "    print(\"converted array from tuple :\",tuple_array)\n",
    "\n",
    "if __name__==\"__main__\":\n",
    "    main()          "
   ]
  },
  {
   "cell_type": "markdown",
   "metadata": {},
   "source": [
    "9.Python program to append values to the end of an array."
   ]
  },
  {
   "cell_type": "code",
   "execution_count": 11,
   "metadata": {},
   "outputs": [
    {
     "name": "stdout",
     "output_type": "stream",
     "text": [
      "Original array : [10, 20, 30]\n",
      "appended array : [10 20 30 40 50 60 70 80]\n"
     ]
    }
   ],
   "source": [
    "def append_to_array(arr,values):\n",
    "    \"\"\"\n",
    "        Discription :\n",
    "            Appends values to the given NumPy array.\n",
    "\n",
    "        Parameters:\n",
    "            array (numpy.ndarray): The original array.\n",
    "            values (list or numpy.ndarray): The values to append to the array.\n",
    "        \n",
    "        Returns:\n",
    "            A new array with the appended values.\n",
    "    \"\"\"\n",
    "    return np.append(arr,values)\n",
    "def main():\n",
    "    Original_array = [10, 20, 30]\n",
    "    append_array = append_to_array(Original_array,[40,50,60,70,80])\n",
    "    print(\"Original array :\",Original_array)\n",
    "    print(\"appended array :\",append_array)   \n",
    "if __name__ == \"__main__\":\n",
    "    main()     "
   ]
  },
  {
   "cell_type": "markdown",
   "metadata": {},
   "source": [
    "10.Python program to find the real and imaginary parts of an array of complex numbers."
   ]
  },
  {
   "cell_type": "code",
   "execution_count": 12,
   "metadata": {},
   "outputs": [
    {
     "name": "stdout",
     "output_type": "stream",
     "text": [
      "Original array: [1.        +0.j         0.70710678+0.70710678j]\n",
      "Real part of the array: [1.         0.70710678]\n",
      "Imaginary part of the array: [0.         0.70710678]\n"
     ]
    }
   ],
   "source": [
    "def extract_real_imag_part(complex_array):\n",
    "    \"\"\"\n",
    "        Discription :\n",
    "            Extracts the real and imaginary parts of an array of complex numbers.\n",
    "        Parameters:\n",
    "            complex_array (numpy.ndarray): The array of complex numbers.\n",
    "        \n",
    "        Returns:\n",
    "            Two NumPy arrays containing the real and imaginary parts, respectively.\n",
    "    \"\"\"\n",
    "    real_part = np.real(complex_array)\n",
    "    imaginary_part = np.imag(complex_array)\n",
    "    return real_part, imaginary_part\n",
    "    \n",
    "def main():\n",
    "    complex_array = np.array([1+0j, 0.70710678+0.70710678j])\n",
    "    print(\"Original array:\",complex_array)  \n",
    "    real_part, imag_part = extract_real_imag_part(complex_array)\n",
    "    print(\"Real part of the array:\",real_part)\n",
    "    print(\"Imaginary part of the array:\",imag_part)\n",
    "if __name__ == \"__main__\":\n",
    "    main()    \n",
    "    "
   ]
  },
  {
   "cell_type": "markdown",
   "metadata": {},
   "source": [
    "11.Python program to find the number of elements of an array, length of one array element in bytes and total bytes consumed by the elements."
   ]
  },
  {
   "cell_type": "code",
   "execution_count": 13,
   "metadata": {},
   "outputs": [
    {
     "name": "stdout",
     "output_type": "stream",
     "text": [
      "the given array : [1 2 3 4 5]\n",
      "Number of Elements in array : 5\n",
      "size of the Elements : 8\n",
      "total bytes in the array : 40\n"
     ]
    }
   ],
   "source": [
    "def array_info(arr):\n",
    "    \"\"\"\n",
    "        Discription :\n",
    "            Returns the number of elements, size of each element in bytes, and the total bytes consumed by the array.\n",
    "        Parameters:\n",
    "            arr (numpy.ndarray): The array to analyze.\n",
    "        \n",
    "        Returns:\n",
    "            tuple: (number of elements, size of each element in bytes, total bytes)\n",
    "    \"\"\"    \n",
    "    \n",
    "    num_elements = arr.size\n",
    "    elements_size = arr.itemsize\n",
    "    total_bytes = arr.nbytes\n",
    "    return num_elements,elements_size,total_bytes\n",
    "def main():\n",
    "    array1 = np.array([1,2,3,4,5])\n",
    "    print(\"the given array :\",array1)\n",
    "    num_elements,elements_size ,total_bytes = array_info(array1)\n",
    "    print(\"Number of Elements in array :\",num_elements)\n",
    "    print(\"size of the Elements :\",elements_size)\n",
    "    print(\"total bytes in the array :\",total_bytes)\n",
    "\n",
    "if __name__ == \"__main__\":\n",
    "    main()  \n",
    "       "
   ]
  },
  {
   "cell_type": "markdown",
   "metadata": {},
   "source": [
    "12.Python program to find common values between two arrays."
   ]
  },
  {
   "cell_type": "code",
   "execution_count": 14,
   "metadata": {},
   "outputs": [
    {
     "name": "stdout",
     "output_type": "stream",
     "text": [
      "The common values between the two arrays: [10 40]\n"
     ]
    }
   ],
   "source": [
    "def common_values(arr1,arr2):\n",
    "    \"\"\"\n",
    "        Discription :\n",
    "            This program find the common values between two arrays\n",
    "        Parameters:\n",
    "            arr1 , arr2 : The array to common values\n",
    "        \n",
    "        Returns:\n",
    "            the intersection between two arrays\n",
    "    \"\"\"     \n",
    "    return np.intersect1d(arr1,arr2)\n",
    "def main():\n",
    "    array1 = np.array([0,10,20,40,60])\n",
    "    array2 = np.array([10, 30, 40]) \n",
    "    common_value = common_values(array1,array2)\n",
    "    print(\"The common values between the two arrays:\",common_value)\n",
    "if __name__ == \"__main__\":\n",
    "    main()       "
   ]
  },
  {
   "cell_type": "markdown",
   "metadata": {},
   "source": [
    "13.Python program to find the set difference of two arrays. The set difference will return the sorted, unique values in array1 that are not in array2."
   ]
  },
  {
   "cell_type": "code",
   "execution_count": 15,
   "metadata": {},
   "outputs": [
    {
     "name": "stdout",
     "output_type": "stream",
     "text": [
      "Array1: [ 0 10 20 40 60 80]\n",
      "Array2: [10 30 40 50 70 90]\n",
      "Set difference between two arrays: [ 0 20 60 80]\n"
     ]
    }
   ],
   "source": [
    "def set_difference(arr1, arr2):\n",
    "    \"\"\"\n",
    "        Discription :\n",
    "            Finds the set difference between two arrays.\n",
    "    \n",
    "        Parameters:\n",
    "            arr1 (numpy.ndarray): The first input array.\n",
    "            arr2 (numpy.ndarray): The second input array.\n",
    "        \n",
    "        Returns:\n",
    "            A sorted array of unique values that are in arr1 but not in arr2.\n",
    "    \"\"\"\n",
    "    return np.setdiff1d(arr1, arr2)\n",
    "\n",
    "def main():\n",
    "    array1 = np.array([0, 10, 20, 40, 60, 80])\n",
    "    array2 = np.array([10, 30, 40, 50, 70, 90])\n",
    "    \n",
    "    print(\"Array1:\", array1)\n",
    "    print(\"Array2:\", array2)\n",
    "    \n",
    "    result = set_difference(array1, array2)\n",
    "    \n",
    "    print(\"Set difference between two arrays:\",result)\n",
    "\n",
    "if __name__ == \"__main__\":\n",
    "    main()\n"
   ]
  },
  {
   "cell_type": "markdown",
   "metadata": {},
   "source": [
    "14.Python program to find the set exclusive-or of two arrays. Set exclusive-or will return the sorted, unique values that are in only one (not both) of the input arrays."
   ]
  },
  {
   "cell_type": "code",
   "execution_count": 16,
   "metadata": {},
   "outputs": [
    {
     "name": "stdout",
     "output_type": "stream",
     "text": [
      "Array1: [ 0 10 20 40 60 80]\n",
      "Array2: [10 30 40 50 70]\n",
      "Unique values that are in only one (not both) of the input arrays:\n",
      "[ 0 20 30 50 60 70 80]\n"
     ]
    }
   ],
   "source": [
    "def set_exclusive_or(arr1, arr2):\n",
    "    \"\"\"\n",
    "        Discription :\n",
    "            Finds the set exclusive-or of two arrays.\n",
    "    \n",
    "        Parameters:\n",
    "            arr1 (numpy.ndarray): The first input array.\n",
    "            arr2 (numpy.ndarray): The second input array.\n",
    "        \n",
    "        Returns:\n",
    "            A sorted array of unique values that are in only one of the input arrays.\n",
    "    \"\"\"\n",
    "    return np.setxor1d(arr1, arr2)\n",
    "\n",
    "def main():\n",
    "    array1 = np.array([0, 10, 20, 40, 60, 80])\n",
    "    array2 = np.array([10, 30, 40, 50, 70])\n",
    "    \n",
    "    print(\"Array1:\", array1)\n",
    "    print(\"Array2:\", array2)\n",
    "    \n",
    "    result = set_exclusive_or(array1, array2)\n",
    "    \n",
    "    print(\"Unique values that are in only one (not both) of the input arrays:\")\n",
    "    print(result)\n",
    "\n",
    "if __name__ == \"__main__\":\n",
    "    main()\n"
   ]
  },
  {
   "cell_type": "markdown",
   "metadata": {},
   "source": [
    "15.Python program compare two arrays using numpy."
   ]
  },
  {
   "cell_type": "code",
   "execution_count": 17,
   "metadata": {},
   "outputs": [
    {
     "name": "stdout",
     "output_type": "stream",
     "text": [
      "Array a: [1 2 3]\n",
      "Array b: [4 5 3]\n",
      "a > b\n",
      "[False False False]\n",
      "a >= b\n",
      "[False False  True]\n",
      "a < b\n",
      "[ True  True False]\n",
      "a <= b\n",
      "[ True  True  True]\n"
     ]
    }
   ],
   "source": [
    "def compare_arrays(arr1, arr2):\n",
    "    \"\"\"\n",
    "        Discription :\n",
    "            Compares two arrays element-wise and returns the comparison results.\n",
    "    \n",
    "        Parameters:\n",
    "            arr1 (numpy.ndarray): The first input array.\n",
    "            arr2 (numpy.ndarray): The second input array.\n",
    "        \n",
    "        Returns:\n",
    "            dict: A dictionary containing the results of different comparisons.\n",
    "    \"\"\"\n",
    "    comparison_results = {\n",
    "        \"a > b\": arr1 > arr2,\n",
    "        \"a >= b\": arr1 >= arr2,\n",
    "        \"a < b\": arr1 < arr2,\n",
    "        \"a <= b\": arr1 <= arr2\n",
    "    }\n",
    "    return comparison_results\n",
    "\n",
    "def main():\n",
    "    array_a = np.array([1, 2,3])\n",
    "    array_b = np.array([4, 5,3])\n",
    "    \n",
    "    print(\"Array a:\", array_a)\n",
    "    print(\"Array b:\", array_b)\n",
    "    \n",
    "    results = compare_arrays(array_a, array_b)\n",
    "    \n",
    "    for comparison, result in results.items():\n",
    "        print(comparison)\n",
    "        print(result)\n",
    "\n",
    "if __name__ == \"__main__\":\n",
    "    main()\n"
   ]
  },
  {
   "cell_type": "markdown",
   "metadata": {},
   "source": [
    "16.Python program to create a contiguous flattened array."
   ]
  },
  {
   "cell_type": "code",
   "execution_count": 18,
   "metadata": {},
   "outputs": [
    {
     "name": "stdout",
     "output_type": "stream",
     "text": [
      "Original array:\n",
      "[[10 20 30]\n",
      " [20 40 50]]\n",
      "New flattened array:\n",
      "[10 20 30 20 40 50]\n"
     ]
    }
   ],
   "source": [
    "def flatten_array(arr):\n",
    "    \"\"\"\n",
    "        Discription :\n",
    "            Creates a contiguous flattened array.\n",
    "    \n",
    "        Parameters:\n",
    "            arr (numpy.ndarray): The array to flatten.\n",
    "        \n",
    "        Returns:\n",
    "            numpy.ndarray: The flattened array.\n",
    "    \"\"\"\n",
    "    return arr.flatten()\n",
    "\n",
    "def main():\n",
    "    array = np.array([[10, 20, 30], [20, 40, 50]])\n",
    "    \n",
    "    print(\"Original array:\")\n",
    "    print(array)\n",
    "    \n",
    "    flattened_array = flatten_array(array)\n",
    "    \n",
    "    print(\"New flattened array:\")\n",
    "    print(flattened_array)\n",
    "\n",
    "if __name__ == \"__main__\":\n",
    "    main()\n"
   ]
  },
  {
   "cell_type": "markdown",
   "metadata": {},
   "source": [
    "17.Python program to change the data type of an array."
   ]
  },
  {
   "cell_type": "code",
   "execution_count": 19,
   "metadata": {},
   "outputs": [
    {
     "name": "stdout",
     "output_type": "stream",
     "text": [
      "Original array:\n",
      "[[ 2  4  6]\n",
      " [ 6  8 10]]\n",
      "Data type of the array x is: int64\n",
      "New Type: float64\n",
      "[[ 2.  4.  6.]\n",
      " [ 6.  8. 10.]]\n"
     ]
    }
   ],
   "source": [
    "def change_array_dtype(arr, new_dtype):\n",
    "    \"\"\"\n",
    "        Discription :\n",
    "            Changes the data type of a NumPy array.\n",
    "    \n",
    "        Parameters:\n",
    "            arr (numpy.ndarray): The array whose data type is to be changed.\n",
    "            new_dtype (str or type): The new data type.\n",
    "        \n",
    "        Returns:\n",
    "            numpy.ndarray: The array with the new data type.\n",
    "    \"\"\"\n",
    "    return arr.astype(new_dtype)\n",
    "\n",
    "def main():\n",
    "    array = np.array([[2, 4, 6], [6, 8, 10]])\n",
    "    \n",
    "    print(\"Original array:\")\n",
    "    print(array)\n",
    "    print(\"Data type of the array x is:\", array.dtype)\n",
    "    \n",
    "    new_dtype = np.float64\n",
    "    array_float = change_array_dtype(array, new_dtype)\n",
    "    \n",
    "    print(\"New Type:\", array_float.dtype)\n",
    "    print(array_float)\n",
    "\n",
    "if __name__ == \"__main__\":\n",
    "    main()\n"
   ]
  },
  {
   "cell_type": "markdown",
   "metadata": {},
   "source": [
    "18.Python program to create a 3-D array with ones on a diagonal and zeros elsewhere."
   ]
  },
  {
   "cell_type": "code",
   "execution_count": 20,
   "metadata": {},
   "outputs": [
    {
     "name": "stdout",
     "output_type": "stream",
     "text": [
      "The identity matrix is : [[1. 0. 0.]\n",
      " [0. 1. 0.]\n",
      " [0. 0. 1.]]\n"
     ]
    }
   ],
   "source": [
    "def create_identity(size):\n",
    "    \"\"\"\n",
    "        Discription :\n",
    "            use for identity matrix\n",
    "    \n",
    "        Parameters:\n",
    "            size: its provid the size for identity matrix\n",
    "        Returns:\n",
    "            the identity matrix\n",
    "    \"\"\"    \n",
    "    return np.identity(size)\n",
    "def main():\n",
    "    size =3\n",
    "    result = create_identity(size)\n",
    "    print(\"The identity matrix is :\",result)\n",
    "if __name__ == \"__main__\":\n",
    "    main()        "
   ]
  },
  {
   "cell_type": "markdown",
   "metadata": {},
   "source": [
    "19.Python program to create an array which looks like below array.\n",
    "Expected Output:\n",
    "[[ 0. 0. 0.]\n",
    "[ 1. 0. 0.]\n",
    "[ 1. 1. 0.]\n",
    "[ 1. 1. 1.]]"
   ]
  },
  {
   "cell_type": "code",
   "execution_count": 21,
   "metadata": {},
   "outputs": [
    {
     "name": "stdout",
     "output_type": "stream",
     "text": [
      "The custom array is : [[0. 0. 0.]\n",
      " [1. 0. 0.]\n",
      " [1. 1. 0.]\n",
      " [1. 1. 1.]]\n"
     ]
    }
   ],
   "source": [
    "def custom_array():\n",
    "    \"\"\"\n",
    "        Discription :\n",
    "            Creates an array as per the specified pattern:\n",
    "    \n",
    "        Parameters:\n",
    "            None\n",
    "        Returns:\n",
    "            The created array.\n",
    "    \"\"\"  \n",
    "    arr = np.zeros((4,3))\n",
    "    arr[1,0]=1\n",
    "    arr[2,0:2] = 1\n",
    "    arr[3,0:]=1\n",
    "    return arr \n",
    "def main():\n",
    "    result = custom_array()\n",
    "    print(\"The custom array is :\",result)\n",
    "if __name__ == \"__main__\":\n",
    "    main()        "
   ]
  },
  {
   "cell_type": "markdown",
   "metadata": {},
   "source": [
    "20.Python program to concatenate two 2-dimensional arrays."
   ]
  },
  {
   "cell_type": "code",
   "execution_count": 22,
   "metadata": {},
   "outputs": [
    {
     "name": "stdout",
     "output_type": "stream",
     "text": [
      "Concatenated array:\n",
      "[[ 0  1  3  0  2  4]\n",
      " [ 5  7  9  6  8 10]]\n"
     ]
    }
   ],
   "source": [
    "def concatenate_arrays(arr1, arr2):\n",
    "    \"\"\"\n",
    "        Discription :\n",
    "            Concatenates two 2-dimensional arrays horizontally.\n",
    "    \n",
    "        Parameters:\n",
    "            arr1 : The first 2D array.\n",
    "            arr2 : The second 2D array.\n",
    "        \n",
    "        Returns:\n",
    "            The concatenated array.\n",
    "    \"\"\"\n",
    "    return np.concatenate((arr1, arr2), axis=1)\n",
    "\n",
    "def main():\n",
    "    array1 = np.array([[0, 1, 3], [5, 7, 9]])\n",
    "    array2 = np.array([[0, 2, 4], [6, 8, 10]])\n",
    "    \n",
    "    result = concatenate_arrays(array1, array2)\n",
    "    \n",
    "    print(\"Concatenated array:\")\n",
    "    print(result)\n",
    "\n",
    "if __name__ == \"__main__\":\n",
    "    main()\n"
   ]
  },
  {
   "cell_type": "markdown",
   "metadata": {},
   "source": [
    "21.Python program to make an array immutable (read-only)."
   ]
  },
  {
   "cell_type": "code",
   "execution_count": 23,
   "metadata": {},
   "outputs": [
    {
     "name": "stdout",
     "output_type": "stream",
     "text": [
      "Original array:\n",
      "[1 2 3 4 5]\n",
      "\n",
      "Test the array is read-only or not:\n",
      "Error: assignment destination is read-only\n"
     ]
    }
   ],
   "source": [
    "def make_array_immutable(arr):\n",
    "    \"\"\"\n",
    "        Discription :\n",
    "            Makes the given NumPy array immutable (read-only).\n",
    "    \n",
    "        Parameters:\n",
    "            arr : The array to be made immutable.\n",
    "        \n",
    "        Returns:\n",
    "            None\n",
    "    \"\"\"\n",
    "    arr.flags.writeable = False\n",
    "\n",
    "def main():\n",
    "    x = np.array([1, 2, 3, 4, 5])\n",
    "    \n",
    "    print(\"Original array:\")\n",
    "    print(x)\n",
    "    \n",
    "    make_array_immutable(x)\n",
    "    \n",
    "    print(\"\\nTest the array is read-only or not:\")\n",
    "    try:\n",
    "        x[0] = 10\n",
    "    except ValueError as e:\n",
    "        print(f\"Error: {e}\")\n",
    "\n",
    "if __name__ == \"__main__\":\n",
    "    main()\n"
   ]
  },
  {
   "cell_type": "markdown",
   "metadata": {},
   "source": [
    "22.Python program to create an array of (3, 4) shape, multiply every element value by 3 and display the new array."
   ]
  },
  {
   "cell_type": "code",
   "execution_count": 24,
   "metadata": {},
   "outputs": [
    {
     "name": "stdout",
     "output_type": "stream",
     "text": [
      "original array \n",
      " [[ 0  1  2  3]\n",
      " [ 4  5  6  7]\n",
      " [ 8  9 10 11]]\n",
      "update array \n",
      " [[ 0  3  6  9]\n",
      " [12 15 18 21]\n",
      " [24 27 30 33]]\n"
     ]
    }
   ],
   "source": [
    "def multiply_elemnts(arr,mul):\n",
    "    \"\"\"\n",
    "        Discription :\n",
    "            Multiplies every element of the given array by the specified multiplier.\n",
    "    \n",
    "        Parameters:\n",
    "            arr: The input array.\n",
    "            \n",
    "        Returns:\n",
    "            The array with elements multiplied by the multiplier.\n",
    "    \"\"\"\n",
    "    return arr*mul\n",
    "def main():\n",
    "    arr = np.arange(12).reshape(3,4)\n",
    "    print(\"original array \\n\",arr)\n",
    "    new_arr = multiply_elemnts(arr,3)\n",
    "    print(\"update array \\n\",new_arr)\n",
    "if __name__ == \"__main__\":\n",
    "    main()    \n",
    "\n"
   ]
  },
  {
   "cell_type": "markdown",
   "metadata": {},
   "source": [
    "23.Python program to convert a NumPy array into Python list structure"
   ]
  },
  {
   "cell_type": "code",
   "execution_count": 25,
   "metadata": {},
   "outputs": [
    {
     "name": "stdout",
     "output_type": "stream",
     "text": [
      "Original array elements:\n",
      " [[0 1]\n",
      " [2 3]\n",
      " [4 5]]\n",
      "\n",
      "Array to list:\n",
      " [[0, 1], [2, 3], [4, 5]]\n"
     ]
    }
   ],
   "source": [
    "def array_to_list(arr):\n",
    "    \"\"\"\n",
    "        Discription :\n",
    "            Converts a NumPy array into a Python list structure.\n",
    "    \n",
    "        Parameters:\n",
    "            arr : The input NumPy array.\n",
    "        \n",
    "        Returns:\n",
    "            list: The converted Python list.\n",
    "    \"\"\"\n",
    "    return arr.tolist()\n",
    "\n",
    "def main():\n",
    "    array = np.array([[0, 1], [2, 3], [4, 5]])\n",
    "    \n",
    "    print(\"Original array elements:\\n\",array)\n",
    "    \n",
    "    \n",
    "    list_structure = array_to_list(array)\n",
    "    \n",
    "    print(\"\\nArray to list:\\n\",list_structure)\n",
    "   \n",
    "\n",
    "if __name__ == \"__main__\":\n",
    "    main()\n"
   ]
  },
  {
   "cell_type": "markdown",
   "metadata": {},
   "source": [
    "24.Python program to convert a NumPy array into Python list structure(precision = 3)"
   ]
  },
  {
   "cell_type": "code",
   "execution_count": 26,
   "metadata": {},
   "outputs": [
    {
     "name": "stdout",
     "output_type": "stream",
     "text": [
      "Original array elements:\n",
      "\n",
      "[0.84055004 0.8273868  0.29299217 0.7428252  0.07363028 0.87373735\n",
      " 0.20665545 0.62402267 0.11282014 0.29331198]\n",
      "\n",
      "Array with precision 3:\n",
      "\n",
      "[0.841, 0.827, 0.293, 0.743, 0.074, 0.874, 0.207, 0.624, 0.113, 0.293]\n"
     ]
    }
   ],
   "source": [
    "def array_to_list_with_precision(arr, precision=3):\n",
    "    \"\"\"\n",
    "        Discription :\n",
    "            Rounds the values in a NumPy array to the specified precision and converts it into a Python list.\n",
    "    \n",
    "        Parameters:\n",
    "            arr : The input NumPy array.\n",
    "            precision : The number of decimal places to round the array values.\n",
    "        \n",
    "        Returns:\n",
    "            list: The converted Python list with rounded values.\n",
    "    \"\"\"\n",
    "    rounded_arr = np.round(arr, precision)\n",
    "    \n",
    "    list_structure = rounded_arr.tolist()\n",
    "    \n",
    "    return list_structure\n",
    "\n",
    "def main():\n",
    "    array = np.random.rand(10)\n",
    "    \n",
    "    print(\"Original array elements:\\n\")\n",
    "    print(array)\n",
    "    \n",
    "    list_structure = array_to_list_with_precision(array)\n",
    "    \n",
    "    print(\"\\nArray with precision 3:\\n\")\n",
    "    print(list_structure)\n",
    "\n",
    "if __name__ == \"__main__\":\n",
    "    main()\n"
   ]
  },
  {
   "cell_type": "markdown",
   "metadata": {},
   "source": [
    "25.Python program to suppresses the use of scientific notation for small numbers in numpy array"
   ]
  },
  {
   "cell_type": "code",
   "execution_count": 28,
   "metadata": {},
   "outputs": [
    {
     "name": "stdout",
     "output_type": "stream",
     "text": [
      "Original array elements:\n",
      "[   0.       1.6   1200.       0.235]\n",
      "Array with precision :\n",
      "[   0.       1.6   1200.       0.235]\n"
     ]
    }
   ],
   "source": [
    "def suppress_scientific_notation(arr, precision=3):\n",
    "    \"\"\"\n",
    "        Discription :\n",
    "            Suppresses the use of scientific notation in the NumPy array and prints the array with the specified precision.\n",
    "    \n",
    "        Parameters:\n",
    "            arr : The input NumPy array.\n",
    "            precision : The number of decimal places to round the array values.\n",
    "        return:\n",
    "            None    \n",
    "    \"\"\"\n",
    "    np.set_printoptions(suppress=True, precision=precision)\n",
    "    \n",
    "    print(\"Array with precision :\".format(precision))\n",
    "    print(arr)\n",
    "\n",
    "def main():\n",
    "    array = np.array([1.6e-10, 1.6, 1200, 0.235])\n",
    "    \n",
    "    print(\"Original array elements:\")\n",
    "    print(array)\n",
    "    \n",
    "    suppress_scientific_notation(array)\n",
    "\n",
    "if __name__ == \"__main__\":\n",
    "    main()\n"
   ]
  },
  {
   "cell_type": "markdown",
   "metadata": {},
   "source": [
    "26.Python program to how to add an extra column to an numpy array."
   ]
  },
  {
   "cell_type": "code",
   "execution_count": 30,
   "metadata": {},
   "outputs": [
    {
     "name": "stdout",
     "output_type": "stream",
     "text": [
      "Original array:\n",
      "[[10 20 30]\n",
      " [40 50 60]]\n",
      "\n",
      "Array after adding a new column:\n",
      "[[ 10  20  30 100]\n",
      " [ 40  50  60 200]]\n"
     ]
    }
   ],
   "source": [
    "def add_column(arr, new_column):\n",
    "    \"\"\"\n",
    "        Discription :\n",
    "            Adds a new column to a 2D NumPy array.\n",
    "    \n",
    "        Parameters:\n",
    "            arr : The original 2D array.\n",
    "            new_column : The new column to be added.\n",
    "        \n",
    "        Returns:\n",
    "            The new array with the extra column.\n",
    "    \"\"\"\n",
    "    return np.column_stack((arr, new_column))\n",
    "\n",
    "def main():\n",
    "    array = np.array([[10, 20, 30], [40, 50, 60]])\n",
    "    new_column = np.array([100, 200])\n",
    "    \n",
    "    print(\"Original array:\")\n",
    "    print(array)\n",
    "    \n",
    "    result = add_column(array, new_column)\n",
    "    \n",
    "    print(\"\\nArray after adding a new column:\")\n",
    "    print(result)\n",
    "\n",
    "if __name__ == \"__main__\":\n",
    "    main()\n"
   ]
  },
  {
   "cell_type": "markdown",
   "metadata": {},
   "source": [
    "27.Python program to remove specific elements in a numpy array."
   ]
  },
  {
   "cell_type": "code",
   "execution_count": 32,
   "metadata": {},
   "outputs": [
    {
     "name": "stdout",
     "output_type": "stream",
     "text": [
      "Original array:\n",
      "[ 10  20  30  40  50  60  70  80  90 100]\n",
      "\n",
      "Array after removing elements at indices 0, 3, and 4:\n",
      "[ 20  30  60  70  80  90 100]\n"
     ]
    }
   ],
   "source": [
    "def remove_elements(arr, indices):\n",
    "    \"\"\"\n",
    "        Discription :\n",
    "            Removes elements from a NumPy array at the specified indices.\n",
    "    \n",
    "        Parameters:\n",
    "            arr : The original array.\n",
    "            indices : The indices of the elements to be removed.\n",
    "        \n",
    "        Returns:\n",
    "            The array with the specified elements removed.\n",
    "    \"\"\"\n",
    "    return np.delete(arr, indices)\n",
    "\n",
    "def main():\n",
    "    array = np.array([10, 20, 30, 40, 50, 60, 70, 80, 90, 100])\n",
    "    \n",
    "    print(\"Original array:\")\n",
    "    print(array)\n",
    "    \n",
    "    indices_to_remove = [0, 3, 4]\n",
    "    result = remove_elements(array, indices_to_remove)\n",
    "    \n",
    "    print(\"\\nArray after removing elements at indices 0, 3, and 4:\")\n",
    "    print(result)\n",
    "\n",
    "if __name__ == \"__main__\":\n",
    "    main()\n"
   ]
  }
 ],
 "metadata": {
  "kernelspec": {
   "display_name": "Python 3",
   "language": "python",
   "name": "python3"
  },
  "language_info": {
   "codemirror_mode": {
    "name": "ipython",
    "version": 3
   },
   "file_extension": ".py",
   "mimetype": "text/x-python",
   "name": "python",
   "nbconvert_exporter": "python",
   "pygments_lexer": "ipython3",
   "version": "3.12.5"
  }
 },
 "nbformat": 4,
 "nbformat_minor": 2
}
